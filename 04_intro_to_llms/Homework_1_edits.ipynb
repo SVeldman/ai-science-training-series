{
  "cells": [
    {
      "cell_type": "markdown",
      "metadata": {
        "id": "view-in-github",
        "colab_type": "text"
      },
      "source": [
        "<a href=\"https://colab.research.google.com/github/SVeldman/ai-science-training-series/blob/main/04_intro_to_llms/Homework_1_edits.ipynb\" target=\"_parent\"><img src=\"https://colab.research.google.com/assets/colab-badge.svg\" alt=\"Open In Colab\"/></a>"
      ]
    },
    {
      "cell_type": "markdown",
      "metadata": {
        "id": "h2VKiqdYaSbg"
      },
      "source": [
        "### Let's write an elementary tokenizer that uses words as tokens.\n",
        "\n",
        "We will use Mark Twain's _Life On The Mississippi_ as a test bed. The text is in the accompanying file 'Life_On_The_Mississippi.txt'\n",
        "\n",
        "Here's a not-terribly-good such tokenizer:"
      ]
    },
    {
      "cell_type": "code",
      "source": [
        "from google.colab import drive\n",
        "drive.mount('/content/drive')"
      ],
      "metadata": {
        "id": "avEMtiD4eRC3",
        "outputId": "8c445909-3f94-4c6d-bc97-e0576667d134",
        "colab": {
          "base_uri": "https://localhost:8080/"
        }
      },
      "execution_count": 1,
      "outputs": [
        {
          "output_type": "stream",
          "name": "stdout",
          "text": [
            "Mounted at /content/drive\n"
          ]
        }
      ]
    },
    {
      "cell_type": "code",
      "execution_count": 48,
      "metadata": {
        "id": "ENHf-jiRaSbj",
        "outputId": "b6663af2-3e06-4fcb-8d14-a8c8dfe385f6",
        "colab": {
          "base_uri": "https://localhost:8080/"
        }
      },
      "outputs": [
        {
          "output_type": "stream",
          "name": "stdout",
          "text": [
            "The top 100 most frequent word tokens are:\n",
            "('the', 10140)\n",
            "('and', 6032)\n",
            "('of', 4541)\n",
            "('a', 4236)\n",
            "('to', 3626)\n",
            "('in', 2618)\n",
            "('it', 2401)\n",
            "('i', 2370)\n",
            "('was', 2119)\n",
            "('that', 1788)\n",
            "('he', 1444)\n",
            "('is', 1153)\n",
            "('for', 1120)\n",
            "('ou', 1106)\n",
            "('with', 1095)\n",
            "('but', 986)\n",
            "('his', 965)\n",
            "('on', 962)\n",
            "('had', 960)\n",
            "('as', 886)\n",
            "('this', 794)\n",
            "('b', 761)\n",
            "('at', 753)\n",
            "('all', 735)\n",
            "('not', 734)\n",
            "('one', 728)\n",
            "('s', 709)\n",
            "('an', 697)\n",
            "('there', 674)\n",
            "('be', 635)\n",
            "('were', 627)\n",
            "('m', 626)\n",
            "('or', 592)\n",
            "('from', 579)\n",
            "('have', 570)\n",
            "('so', 559)\n",
            "('out', 553)\n",
            "('we', 549)\n",
            "('up', 548)\n",
            "('me', 536)\n",
            "('him', 529)\n",
            "('when', 506)\n",
            "('river', 500)\n",
            "('which', 491)\n",
            "('would', 478)\n",
            "('t', 470)\n",
            "('no', 443)\n",
            "('them', 431)\n",
            "('then', 419)\n",
            "('man', 415)\n",
            "('said', 404)\n",
            "('are', 387)\n",
            "('if', 382)\n",
            "('their', 377)\n",
            "('now', 377)\n",
            "('time', 355)\n",
            "('about', 353)\n",
            "('down', 342)\n",
            "('been', 336)\n",
            "('ever', 326)\n",
            "('could', 312)\n",
            "('what', 309)\n",
            "('has', 306)\n",
            "('will', 302)\n",
            "('two', 301)\n",
            "('into', 300)\n",
            "('our', 285)\n",
            "('her', 282)\n",
            "('its', 281)\n",
            "('other', 277)\n",
            "('some', 274)\n",
            "('do', 272)\n",
            "('new', 270)\n",
            "('water', 252)\n",
            "('she', 250)\n",
            "('more', 235)\n",
            "('boat', 235)\n",
            "('got', 233)\n",
            "('these', 233)\n",
            "('who', 231)\n",
            "('can', 229)\n",
            "('da', 222)\n",
            "('wa', 219)\n",
            "('did', 215)\n",
            "('before', 213)\n",
            "('here', 211)\n",
            "('over', 206)\n",
            "('hundred', 204)\n",
            "('well', 203)\n",
            "('old', 200)\n",
            "('upon', 200)\n",
            "('after', 198)\n",
            "('pilot', 197)\n",
            "('good', 196)\n",
            "('through', 194)\n",
            "('than', 192)\n",
            "('get', 191)\n",
            "('ears', 186)\n",
            "('went', 184)\n",
            "('never', 184)\n"
          ]
        }
      ],
      "source": [
        "import re\n",
        "import collections\n",
        "\n",
        "wdict = {}\n",
        "#with open('Life_On_The_Mississippi.txt', 'r') as L:\n",
        "with open('/content/drive/MyDrive/Life_On_The_Mississippi.txt', 'r') as L:\n",
        "    line = L.readline()\n",
        "    nlines = 1\n",
        "    while line:\n",
        "        line = line.casefold()\n",
        "        line = re.sub(r'[^\\w\\s]', ' ', line)\n",
        "        line = re.sub(r'[^\\x00-x7f]', '', line)\n",
        "        words = line.split()\n",
        "        for word in words:\n",
        "            if wdict.get(word) is not None:\n",
        "                wdict[word] += 1\n",
        "            else:\n",
        "                wdict[word] = 1\n",
        "        line = L.readline()\n",
        "        nlines += 1\n",
        "\n",
        "wdict_sorted = dict(sorted(wdict.items(), reverse = True, key=lambda item: item[1]))\n",
        "\n",
        "nitem = 0 ; maxitems = 100\n",
        "print(\"The top 100 most frequent word tokens are:\")\n",
        "for item in wdict_sorted.items():\n",
        "    nitem += 1\n",
        "    print(item)\n",
        "    if nitem == maxitems: break\n"
      ]
    },
    {
      "cell_type": "code",
      "source": [
        "total_word_occurrences = sum(wdict_sorted.values())\n",
        "percentile_90 = total_word_occurrences*0.9\n",
        "\n",
        "unique_count = 0\n",
        "word_count = 0\n",
        "\n",
        "for i in wdict_sorted.values():\n",
        "  unique_count += 1\n",
        "  word_count += i\n",
        "  if word_count >= percentile_90:\n",
        "    break\n",
        "\n",
        "print(f\"{unique_count} words make up the top 90% of word occurrences in this 'corpus.'\")\n"
      ],
      "metadata": {
        "id": "8LWHst8Yf643",
        "outputId": "6c3ead0d-1013-442d-8c12-789af10e94ce",
        "colab": {
          "base_uri": "https://localhost:8080/"
        }
      },
      "execution_count": 40,
      "outputs": [
        {
          "output_type": "stream",
          "name": "stdout",
          "text": [
            "3097 words make up the top 90% of word occurrences in this 'corpus.'\n"
          ]
        }
      ]
    },
    {
      "cell_type": "markdown",
      "metadata": {
        "id": "gxh9fv0eaSbk"
      },
      "source": [
        "This is unsatisfactory for a few reasons:\n",
        "\n",
        "* There are non-ASCII (Unicode) characters that should be stripped (the so-called \"Byte-Order Mark\" or BOM \\ufeff at the beginning of the text);\n",
        "\n",
        "* There are punctuation marks, which we don't want to concern ourselves with;\n",
        "\n",
        "* The same word can appear capitalized, or lower-case, or with its initial letter upper-cased, whereas we want them all to be normalized to lower-case.\n",
        "\n",
        "Part 1 of this assignment: insert code in this loop to operate on the str variable 'line' so as to fix these problems before 'line' is split into words.\n",
        "\n",
        "A hint to one possible way to do this: use the 'punctuation' character definition in the Python 'string' module, the 'maketrans' and 'translate' methods of Python's str class, to eliminate punctuation, and the regular expression ('re') Python module to eliminate any Unicode---it is useful to know that the regular expression r'[^\\x00-x7f]' means \"any character not in the vanilla ASCII set.\n",
        "\n",
        "Part 2: Add code to sort the contents of wdict by word occurrence frequency.  What are the top 100 most frequent word tokens?  Adding up occurrence frequencies starting from the most frequent words, how many distinct words make up the top 90% of word occurrences in this \"corpus\"?\n",
        "\n",
        "For this part, the docs of Python's 'sorted' and of the helper 'itemgetter' from 'operator' reward study.\n",
        "\n",
        "Write your modified code in the cell below."
      ]
    },
    {
      "cell_type": "code",
      "execution_count": null,
      "metadata": {
        "id": "F_KG3LpraSbl"
      },
      "outputs": [],
      "source": []
    }
  ],
  "metadata": {
    "kernelspec": {
      "display_name": "pytorch.venv",
      "language": "python",
      "name": "python3"
    },
    "language_info": {
      "codemirror_mode": {
        "name": "ipython",
        "version": 3
      },
      "file_extension": ".py",
      "mimetype": "text/x-python",
      "name": "python",
      "nbconvert_exporter": "python",
      "pygments_lexer": "ipython3",
      "version": "3.10.12"
    },
    "colab": {
      "provenance": [],
      "include_colab_link": true
    }
  },
  "nbformat": 4,
  "nbformat_minor": 0
}