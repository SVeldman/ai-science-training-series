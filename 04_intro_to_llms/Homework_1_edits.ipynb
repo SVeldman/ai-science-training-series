{
  "cells": [
    {
      "cell_type": "markdown",
      "metadata": {
        "id": "view-in-github",
        "colab_type": "text"
      },
      "source": [
        "<a href=\"https://colab.research.google.com/github/SVeldman/ai-science-training-series/blob/main/04_intro_to_llms/Homework_1_edits.ipynb\" target=\"_parent\"><img src=\"https://colab.research.google.com/assets/colab-badge.svg\" alt=\"Open In Colab\"/></a>"
      ]
    },
    {
      "cell_type": "markdown",
      "metadata": {
        "id": "Se_W8fm6uxRv"
      },
      "source": [
        "### Let's write an elementary tokenizer that uses words as tokens.\n",
        "\n",
        "We will use Mark Twain's _Life On The Mississippi_ as a test bed. The text is in the accompanying file 'Life_On_The_Mississippi.txt'\n",
        "\n",
        "Here's a not-terribly-good such tokenizer:"
      ]
    },
    {
      "cell_type": "code",
      "execution_count": null,
      "metadata": {
        "id": "WW6h1ztquxRy",
        "outputId": "3ea07127-c594-4373-e92f-b3aa9134b668"
      },
      "outputs": [
        {
          "name": "stdout",
          "output_type": "stream",
          "text": [
            "('\\ufeffThe', 1)\n",
            "('Project', 79)\n",
            "('Gutenberg', 22)\n",
            "('eBook', 4)\n",
            "('of', 4469)\n",
            "('Life', 5)\n",
            "('on', 856)\n",
            "('the', 8443)\n",
            "('Mississippi', 104)\n",
            "('This', 127)\n",
            "('ebook', 2)\n",
            "('is', 1076)\n",
            "('for', 1017)\n",
            "('use', 34)\n",
            "('anyone', 4)\n",
            "('anywhere', 8)\n",
            "('in', 2381)\n",
            "('United', 36)\n",
            "('States', 26)\n",
            "('and', 5692)\n",
            "('most', 119)\n",
            "('other', 223)\n",
            "('parts', 5)\n",
            "('world', 40)\n",
            "('at', 676)\n",
            "('no', 325)\n",
            "('cost', 18)\n",
            "('with', 1053)\n",
            "('almost', 37)\n",
            "('restrictions', 2)\n",
            "('whatsoever.', 2)\n",
            "('You', 92)\n",
            "('may', 85)\n",
            "('copy', 12)\n",
            "('it,', 199)\n",
            "('give', 67)\n",
            "('it', 1382)\n",
            "('away', 107)\n",
            "('or', 561)\n",
            "('re-use', 2)\n",
            "('under', 112)\n",
            "('terms', 22)\n",
            "('License', 8)\n",
            "('included', 2)\n",
            "('this', 591)\n",
            "('online', 4)\n",
            "('www.gutenberg.org.', 4)\n",
            "('If', 85)\n",
            "('you', 813)\n",
            "('are', 361)\n",
            "('not', 680)\n",
            "('located', 9)\n",
            "('States,', 8)\n",
            "('will', 287)\n",
            "('have', 557)\n",
            "('to', 3518)\n",
            "('check', 4)\n",
            "('laws', 13)\n",
            "('country', 50)\n",
            "('where', 152)\n",
            "('before', 150)\n",
            "('using', 10)\n",
            "('eBook.', 2)\n",
            "('Title:', 1)\n",
            "('Author:', 1)\n",
            "('Mark', 2)\n",
            "('Twain', 2)\n",
            "('Release', 1)\n",
            "('date:', 1)\n",
            "('July', 7)\n",
            "('10,', 2)\n",
            "('2004', 1)\n",
            "('[eBook', 1)\n",
            "('#245]', 1)\n",
            "('Most', 4)\n",
            "('recently', 3)\n",
            "('updated:', 1)\n",
            "('January', 2)\n",
            "('1,', 2)\n",
            "('2021', 1)\n",
            "('Language:', 1)\n",
            "('English', 7)\n",
            "('Credits:', 1)\n",
            "('Produced', 2)\n",
            "('by', 623)\n",
            "('David', 2)\n",
            "('Widger.', 2)\n",
            "('Earliest', 2)\n",
            "('PG', 3)\n",
            "('text', 4)\n",
            "('edition', 3)\n",
            "('produced', 15)\n",
            "('Graham', 2)\n",
            "('Allan', 2)\n",
            "('***', 4)\n",
            "('START', 1)\n",
            "('OF', 16)\n",
            "('THE', 29)\n",
            "('PROJECT', 4)\n",
            "('GUTENBERG', 3)\n"
          ]
        }
      ],
      "source": [
        "wdict = {}\n",
        "with open('Life_On_The_Mississippi.txt', 'r') as L:\n",
        "    line = L.readline()\n",
        "    nlines = 1\n",
        "    while line:\n",
        "\n",
        "        words = line.split()\n",
        "        for word in words:\n",
        "            if wdict.get(word) is not None:\n",
        "                wdict[word] += 1\n",
        "            else:\n",
        "                wdict[word] = 1\n",
        "        line = L.readline()\n",
        "        nlines += 1\n",
        "\n",
        "nitem = 0 ; maxitems = 100\n",
        "for item in wdict.items():\n",
        "    nitem += 1\n",
        "    print(item)\n",
        "    if nitem == maxitems: break\n"
      ]
    },
    {
      "cell_type": "markdown",
      "metadata": {
        "id": "vFSbj24cuxRz"
      },
      "source": [
        "This is unsatisfactory for a few reasons:\n",
        "\n",
        "* There are non-ASCII (Unicode) characters that should be stripped (the so-called \"Byte-Order Mark\" or BOM \\ufeff at the beginning of the text);\n",
        "\n",
        "* There are punctuation marks, which we don't want to concern ourselves with;\n",
        "\n",
        "* The same word can appear capitalized, or lower-case, or with its initial letter upper-cased, whereas we want them all to be normalized to lower-case.\n",
        "\n",
        "Part 1 of this assignment: insert code in this loop to operate on the str variable 'line' so as to fix these problems before 'line' is split into words.\n",
        "\n",
        "A hint to one possible way to do this: use the 'punctuation' character definition in the Python 'string' module, the 'maketrans' and 'translate' methods of Python's str class, to eliminate punctuation, and the regular expression ('re') Python module to eliminate any Unicode---it is useful to know that the regular expression r'[^\\x00-x7f]' means \"any character not in the vanilla ASCII set.\n",
        "\n",
        "Part 2: Add code to sort the contents of wdict by word occurrence frequency.  What are the top 100 most frequent word tokens?  Adding up occurrence frequencies starting from the most frequent words, how many distinct words make up the top 90% of word occurrences in this \"corpus\"?\n",
        "\n",
        "For this part, the docs of Python's 'sorted' and of the helper 'itemgetter' from 'operator' reward study.\n",
        "\n",
        "Write your modified code in the cell below."
      ]
    },
    {
      "cell_type": "code",
      "execution_count": 3,
      "metadata": {
        "id": "Tm_U6vfcuxR0",
        "outputId": "c57b9774-abdc-47a5-8595-328a342c1511",
        "colab": {
          "base_uri": "https://localhost:8080/"
        }
      },
      "outputs": [
        {
          "output_type": "stream",
          "name": "stdout",
          "text": [
            "Drive already mounted at /content/drive; to attempt to forcibly remount, call drive.mount(\"/content/drive\", force_remount=True).\n"
          ]
        }
      ],
      "source": [
        "from google.colab import drive\n",
        "drive.mount('/content/drive')"
      ]
    },
    {
      "cell_type": "code",
      "source": [
        "import re\n",
        "import collections\n",
        "\n",
        "wdict = {}\n",
        "#with open('Life_On_The_Mississippi.txt', 'r') as L:\n",
        "with open('/content/drive/MyDrive/Life_On_The_Mississippi.txt', 'r') as L:\n",
        "    line = L.readline()\n",
        "    nlines = 1\n",
        "    while line:\n",
        "        line = line.casefold()\n",
        "        line = re.sub(r'[^\\w\\s]', ' ', line)\n",
        "        line = re.sub(r'[^\\x00-x7f]', '', line)\n",
        "        words = line.split()\n",
        "        for word in words:\n",
        "            if wdict.get(word) is not None:\n",
        "                wdict[word] += 1\n",
        "            else:\n",
        "                wdict[word] = 1\n",
        "        line = L.readline()\n",
        "        nlines += 1\n",
        "\n",
        "wdict_sorted = dict(sorted(wdict.items(), reverse = True, key=lambda item: item[1]))\n",
        "\n",
        "nitem = 0 ; maxitems = 100\n",
        "print(\"The top 100 most frequent word tokens are:\")\n",
        "for item in wdict_sorted.items():\n",
        "    nitem += 1\n",
        "    print(item)\n",
        "    if nitem == maxitems: break"
      ],
      "metadata": {
        "id": "vr6XJtzmu3sw",
        "outputId": "bf4545f3-105a-48f0-8f0b-0bcefe812562",
        "colab": {
          "base_uri": "https://localhost:8080/"
        }
      },
      "execution_count": 4,
      "outputs": [
        {
          "output_type": "stream",
          "name": "stdout",
          "text": [
            "The top 100 most frequent word tokens are:\n",
            "('the', 10140)\n",
            "('and', 6032)\n",
            "('of', 4541)\n",
            "('a', 4236)\n",
            "('to', 3626)\n",
            "('in', 2618)\n",
            "('it', 2401)\n",
            "('i', 2370)\n",
            "('was', 2119)\n",
            "('that', 1788)\n",
            "('he', 1444)\n",
            "('is', 1153)\n",
            "('for', 1120)\n",
            "('ou', 1106)\n",
            "('with', 1095)\n",
            "('but', 986)\n",
            "('his', 965)\n",
            "('on', 962)\n",
            "('had', 960)\n",
            "('as', 886)\n",
            "('this', 794)\n",
            "('b', 761)\n",
            "('at', 753)\n",
            "('all', 735)\n",
            "('not', 734)\n",
            "('one', 728)\n",
            "('s', 709)\n",
            "('an', 697)\n",
            "('there', 674)\n",
            "('be', 635)\n",
            "('were', 627)\n",
            "('m', 626)\n",
            "('or', 592)\n",
            "('from', 579)\n",
            "('have', 570)\n",
            "('so', 559)\n",
            "('out', 553)\n",
            "('we', 549)\n",
            "('up', 548)\n",
            "('me', 536)\n",
            "('him', 529)\n",
            "('when', 506)\n",
            "('river', 500)\n",
            "('which', 491)\n",
            "('would', 478)\n",
            "('t', 470)\n",
            "('no', 443)\n",
            "('them', 431)\n",
            "('then', 419)\n",
            "('man', 415)\n",
            "('said', 404)\n",
            "('are', 387)\n",
            "('if', 382)\n",
            "('their', 377)\n",
            "('now', 377)\n",
            "('time', 355)\n",
            "('about', 353)\n",
            "('down', 342)\n",
            "('been', 336)\n",
            "('ever', 326)\n",
            "('could', 312)\n",
            "('what', 309)\n",
            "('has', 306)\n",
            "('will', 302)\n",
            "('two', 301)\n",
            "('into', 300)\n",
            "('our', 285)\n",
            "('her', 282)\n",
            "('its', 281)\n",
            "('other', 277)\n",
            "('some', 274)\n",
            "('do', 272)\n",
            "('new', 270)\n",
            "('water', 252)\n",
            "('she', 250)\n",
            "('more', 235)\n",
            "('boat', 235)\n",
            "('got', 233)\n",
            "('these', 233)\n",
            "('who', 231)\n",
            "('can', 229)\n",
            "('da', 222)\n",
            "('wa', 219)\n",
            "('did', 215)\n",
            "('before', 213)\n",
            "('here', 211)\n",
            "('over', 206)\n",
            "('hundred', 204)\n",
            "('well', 203)\n",
            "('old', 200)\n",
            "('upon', 200)\n",
            "('after', 198)\n",
            "('pilot', 197)\n",
            "('good', 196)\n",
            "('through', 194)\n",
            "('than', 192)\n",
            "('get', 191)\n",
            "('ears', 186)\n",
            "('went', 184)\n",
            "('never', 184)\n"
          ]
        }
      ]
    },
    {
      "cell_type": "code",
      "source": [
        "total_word_occurrences = sum(wdict_sorted.values())\n",
        "percentile_90 = total_word_occurrences*0.9\n",
        "\n",
        "unique_count = 0\n",
        "word_count = 0\n",
        "\n",
        "for i in wdict_sorted.values():\n",
        "  unique_count += 1\n",
        "  word_count += i\n",
        "  if word_count >= percentile_90:\n",
        "    break\n",
        "\n",
        "print(f\"{unique_count} words make up the top 90% of word occurrences in this 'corpus.'\")"
      ],
      "metadata": {
        "id": "VENA5ZKtu7ew",
        "outputId": "d44847a5-ab2c-4c3b-ca35-5673336c33c9",
        "colab": {
          "base_uri": "https://localhost:8080/"
        }
      },
      "execution_count": 5,
      "outputs": [
        {
          "output_type": "stream",
          "name": "stdout",
          "text": [
            "3097 words make up the top 90% of word occurrences in this 'corpus.'\n"
          ]
        }
      ]
    }
  ],
  "metadata": {
    "kernelspec": {
      "display_name": "pytorch.venv",
      "language": "python",
      "name": "python3"
    },
    "language_info": {
      "codemirror_mode": {
        "name": "ipython",
        "version": 3
      },
      "file_extension": ".py",
      "mimetype": "text/x-python",
      "name": "python",
      "nbconvert_exporter": "python",
      "pygments_lexer": "ipython3",
      "version": "3.10.12"
    },
    "colab": {
      "provenance": [],
      "include_colab_link": true
    }
  },
  "nbformat": 4,
  "nbformat_minor": 0
}